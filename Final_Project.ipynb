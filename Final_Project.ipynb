{
 "cells": [
  {
   "cell_type": "code",
   "execution_count": 1,
   "metadata": {
    "collapsed": true
   },
   "outputs": [],
   "source": [
    "import re\n",
    "import random\n",
    "#dictionary to convert nucleotides to Amino acids\n",
    "Codons = { \"GCU\": \"A\", \"GCC\": \"A\", \"GCA\": \"A\", \"GCG\": \"A\",\n",
    "\"UUU\": \"F\", \"UUC\": \"F\",\n",
    "\"UUA\": \"L\", \"UUG\": \"L\", \"CUU\": \"L\", \"CUC\":\"L\", \"CUA\": \"L\", \"CUG\": \"L\",\n",
    "\"AUU\": \"I\", \"AUC\": \"I\", \"AUA\": \"I\",\n",
    "\"AUG\": \"M\",\n",
    "\"GUU\": \"V\", \"GUC\": \"V\", \"GUA\": \"V\", \"GUG\": \"V\",\n",
    "\"UCU\":\"S\", \"UCC\": \"S\", \"UCA\": \"S\", \"UCG\": \"S\",\n",
    "\"CCU\": \"P\", \"CCC\": \"P\", \"CCA\": \"P\", \"CCG\": \"P\",\n",
    "\"ACU\": \"T\", \"ACC\": \"T\", \"ACA\": \"T\", \"ACG\": \"T\", \n",
    "\"UAU\": \"Y\", \"UAC\": \"Y\",\n",
    "\"UAA\": \"STOP\", \"UAG\": \"STOP\", \"UGA\": \"STOP\",\n",
    "\"CAU\": \"H\", \"CAC\": \"H\",\n",
    "\"CAA\": \"Q\", \"CAG\": \"Q\",\n",
    "\"AAU\": \"N\", \"AAC\": \"N\",\n",
    "\"AAA\": \"K\", \"AAG\": \"K\",\n",
    "\"GAU\": \"D\", \"GAC\": \"D\", \n",
    "\"GAA\": \"E\", \"GAG\": \"E\",\n",
    "\"UGU\": \"C\", \"UGC\": \"C\",\n",
    "\"UGG\": \"W\",\n",
    "\"CGU\": \"R\", \"CGC\": \"R\", \"CGA\": \"R\", \"CGG\": \"R\", \"AGA\": \"R\", \"AGG\": \"R\",\n",
    "\"AGU\":\"S\", \"AGC\":\"S\",\n",
    "\"GGU\": \"G\", \"GGC\": \"G\", \"GGA\": \"G\", \"GGG\": \"G\" }\n",
    "\n",
    "\n"
   ]
  },
  {
   "cell_type": "code",
   "execution_count": 62,
   "metadata": {},
   "outputs": [],
   "source": [
    "class RNA:\n",
    "    \"\"\"A class used to store RNA sequences, protein counterpart, \n",
    "    and frequency of secondary characteristics\"\"\"\n",
    "    RNA_sequence=\"\"\n",
    "    protein=[]\n",
    "    falpha=0   #amount of alpha helices\n",
    "    fbeta=0 #frequency of beta strands\n",
    "    \n",
    "    def create(self,length=1002):\n",
    "        \"\"\"Creates random RNA sequence and translates it to \n",
    "        protein sequence\"\"\"\n",
    "        #creates list of nucleotides\n",
    "        RNA = random.choices(['A','C','G','U'], k=length)\n",
    "        for i in RNA:\n",
    "            self.RNA_sequence = self.RNA_sequence+i\n",
    "        seq= self.RNA_sequence \n",
    "        seqLength = len(seq)\n",
    "        self.protein=[]\n",
    "        #for loop that groups nucleaic acids into codons and then \n",
    "        #into amino acids\n",
    "        for i in range(3,seqLength + 1,3): \n",
    "                self.protein.append(Codons.get(seq[i-3:i]))\n",
    "        #removes all stop codons from the protein\n",
    "        k = \"STOP\"\n",
    "        while(k in self.protein): \n",
    "            self.protein.remove(k)\n",
    "            \n",
    "            \n",
    "    def AAbool(self,x,y):\n",
    "        \"\"\"Function to aid in alpha helix finder. Boolean that discovers \n",
    "        if close amino acids are compatible\"\"\"\n",
    "        Phobic= ['G','A','P','V','L','I','M','F','Y','W']\n",
    "        Philic= ['S','T','C','N','Q']\n",
    "        Negative=['D','E']\n",
    "        Positive=['K','R','H']\n",
    "        if x == 'G' or x=='P':\n",
    "            return(False)\n",
    "        if y == 'G' or y=='P':\n",
    "            return(False)\n",
    "        elif x in Phobic and y in Phobic:\n",
    "            return(True)\n",
    "        elif x in Philic and (y in Philic or y in Negative or y in Positive):\n",
    "            return(True)\n",
    "        elif x in Negative and (y in Positive or y in Philic):\n",
    "            return(True)\n",
    "        elif x in Positive and (y in Negative or y in Philic):\n",
    "            return(True)\n",
    "        else:\n",
    "            return(False)\n",
    "                \n",
    "        \n",
    "    def alpha(self):\n",
    "        \"\"\"Finds the amount of alpha helices in the protein\"\"\"\n",
    "        i= 0\n",
    "        Counter= 0\n",
    "        Counterlist = []\n",
    "        #runs a loop over the entire protein and records when there are more than nine positive interactions in \n",
    "        #a row, meaning a alpha helix is most likely present\n",
    "        while i < (len(self.protein)-3):\n",
    "            if self.AAbool(self.protein[i], self.protein[i+3]) == True:\n",
    "                Counter = Counter+1\n",
    "            else:\n",
    "                if Counter > 9:\n",
    "                    Counterlist.append(Counter)\n",
    "                    print(Counter)\n",
    "                Counter = 0\n",
    "            i= i+1\n",
    "        self.falpha= len(Counterlist)\n",
    "        \n",
    "    def ABbool(self,w,x,y,z):\n",
    "        \"\"\"Function that aids in Beta strands finder. \n",
    "        Determines if there are beta turns\"\"\"\n",
    "        carbonyl= ['N','Q','D','E']\n",
    "        amino= ['N','Q']\n",
    "        if w not in carbonyl:\n",
    "            return(False)\n",
    "        elif x != 'P':\n",
    "            return(False)\n",
    "        elif y != 'G':\n",
    "            return(False)\n",
    "        elif z not in amino:\n",
    "            return(False)\n",
    "        else:\n",
    "            return(True)\n",
    "            \n",
    "    def beta(self):\n",
    "        \"\"\"Finds the amount of beta strands in the protein\"\"\"\n",
    "        i= 0\n",
    "        Turnlist = []\n",
    "        #runs a loop over the entire protein and records when there is a beta turn\n",
    "        while i < (len(self.protein)-3):\n",
    "            Turnlist.append.self.ABbool(self.protein[i], self.protein[i+1],self.protein[i+2],self.protein[i+3])\n",
    "            i= i+1\n",
    "        #runs a loop that finds distances between True statements and if less \n",
    "        #than 30 amino acids apart then records a beta strand\n",
    "        k= \"True\"\n",
    "        while k in Turnlist:\n",
    "            #use Turnlist.index(\"True\") to find index\n",
    "            #add to list\n",
    "            #delete index\n",
    "            #if the index is less than 30 than 1 sheet is formed\n",
    "        \n",
    "        \n",
    "        "
   ]
  },
  {
   "cell_type": "code",
   "execution_count": 63,
   "metadata": {
    "collapsed": true
   },
   "outputs": [],
   "source": [
    "A= RNA()\n",
    "A.create(10000)"
   ]
  },
  {
   "cell_type": "code",
   "execution_count": 64,
   "metadata": {},
   "outputs": [],
   "source": [
    "A.alpha()"
   ]
  },
  {
   "cell_type": "code",
   "execution_count": 65,
   "metadata": {},
   "outputs": [
    {
     "data": {
      "text/plain": [
       "0"
      ]
     },
     "execution_count": 65,
     "metadata": {},
     "output_type": "execute_result"
    }
   ],
   "source": [
    "A.falpha"
   ]
  },
  {
   "cell_type": "code",
   "execution_count": 67,
   "metadata": {},
   "outputs": [
    {
     "data": {
      "text/plain": [
       "False"
      ]
     },
     "execution_count": 67,
     "metadata": {},
     "output_type": "execute_result"
    }
   ],
   "source": [
    "A.ABbool('N','T','G','N')"
   ]
  },
  {
   "cell_type": "code",
   "execution_count": null,
   "metadata": {
    "collapsed": true
   },
   "outputs": [],
   "source": []
  }
 ],
 "metadata": {
  "kernelspec": {
   "display_name": "Python 3",
   "language": "python",
   "name": "python3"
  },
  "language_info": {
   "codemirror_mode": {
    "name": "ipython",
    "version": 3
   },
   "file_extension": ".py",
   "mimetype": "text/x-python",
   "name": "python",
   "nbconvert_exporter": "python",
   "pygments_lexer": "ipython3",
   "version": "3.6.2"
  }
 },
 "nbformat": 4,
 "nbformat_minor": 2
}
